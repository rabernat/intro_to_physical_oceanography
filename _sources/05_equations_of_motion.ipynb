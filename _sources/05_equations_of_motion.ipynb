{
 "cells": [
  {
   "cell_type": "markdown",
   "metadata": {},
   "source": [
    "$$ \\newcommand{\\pd}[2]{ \\frac{\\partial #1}{\\partial #2} }\n",
    "\\newcommand{\\od}[2]{\\frac{d #1}{d #2}}\n",
    "\\newcommand{\\td}[2]{\\frac{D #1}{D #2}}\n",
    "\\newcommand{\\ab}[1]{\\langle #1 \\rangle}\n",
    "\\newcommand{\\bss}[1]{\\textsf{\\textbf{#1}}}\n",
    "\\newcommand{\\ol}{\\overline}\n",
    "\\newcommand{\\olx}[1]{\\overline{#1}^x}\n",
    "$$\n",
    "\n",
    "# Equations of Motion"
   ]
  },
  {
   "cell_type": "markdown",
   "metadata": {},
   "source": [
    "In this class, we will not undertake a formal derivation of the fluid equations of motion. That would take up too much time and require too much math. Interested students can consult Marshall and Plumb (sec. XX) for a more in-depth derivation. Instead, we will try to build an intuitive understanding of the equations of motion based on things we already all understand.\n",
    "\n",
    "## Newton's Second Law for a Water Parcel\n",
    "\n",
    "The starting point for understanding the equations of motion is the notion of a \"water parcel\". The water is hypothetical, infinitesimally small fluid element. We imagine the fluid to be composed of an infinite continuum of such parcels, each following its own unique path.\n",
    "\n",
    "The equation of fluid motion is basically just [Newton's second law](https://en.wikipedia.org/wiki/Newton%27s_laws_of_motion#Newton.27s_second_law) applied to this parcel. Newton's second law states that\n",
    "\n",
    "$$m \\mathbf{a} = \\mathbf{F}$$\n",
    "\n",
    "where $\\mathbf{F}$ represents the sum of all forces acting on the parcel, $m$ is the parcel mass and $\\mathbf{a}$ is the acceleration of the parcel. Both sides of the equations have the units of N (Newtons; 1 N = 1 kg m s$^{-2}$).\n",
    "\n",
    "The expression above is valid for a finite-sized object, like a cannon ball. To move to an infintessimally small water parcel, we replace $m$, the mass, with $\\rho$, the density, i.e.~the mass per unit volume:\n",
    "\n",
    "$$ \\rho \\mathbf{a} = \\mathbf{f} \\ .$$\n",
    "\n",
    "The force vector $\\mathbf{f}$ now represents the force per unit volume and has units N m$^{-3}$. \n",
    "\n",
    "In order to develop this equation into a useful form, we need to work on the following two problems:\n",
    "1. What is the acceleration of a fluid parcel on a rotating, spherical planet?\n",
    "1. What are the different forces that make up $\\mathbf{f}$?\n"
   ]
  },
  {
   "cell_type": "markdown",
   "metadata": {},
   "source": [
    "![water parcel](images/fluid_parcel_forces.svg)\n",
    "\n",
    "_Cartoon of a water parcel moving through space along a path (black line). The colored arrows represent the different forces on and acceleration of the parcel._"
   ]
  },
  {
   "cell_type": "markdown",
   "metadata": {},
   "source": [
    "We will start with the forces, because they are easier. There are three forces we have to consider: the pressure gradient force ($\\mathbf{f}_p$), the gravitational force ($\\mathbf{f}_g$) and the viscous force ($\\mathbf{f}_{visc}$). Together these sum to give the net force:\n",
    "\n",
    "$$ \\mathbf{f} = \\mathbf{f}_p + \\mathbf{f}_g + \\mathbf{f}_{visc} $$"
   ]
  },
  {
   "cell_type": "markdown",
   "metadata": {},
   "source": [
    "## Forces\n",
    "\n",
    "### Pressure Gradient Force\n",
    "\n",
    "We all have an intuitive understanding of pressure. [Pressure](https://en.wikipedia.org/wiki/Pressure) is the force the surrounding fluid exerts perpendicular to the water parcel surface. We denote pressure with the variable $p$: it has units of Pa (Pascals; 1 Pa = 1 N m$^{-2}$). Pressure is _isotropic_, i.e. it is the same in all directions.\n",
    "\n",
    "If the pressure field is uniform, there will be no net force exerted on the water parcel, because the force is exactly the same on all sides. Only if there is a _pressure gradient_ does the parcel feel a force; the parcel is pushed away from the higher pressure towards the lower pressure. Mathematically, this becomes\n",
    "\n",
    "$$\\mathbf{f}_p = - \\nabla p \\ .$$"
   ]
  },
  {
   "cell_type": "markdown",
   "metadata": {},
   "source": [
    "### Gravitational Force\n",
    "\n",
    "The gravitational force per unit volume on the fluid parcel is given by\n",
    "\n",
    "$$ \\mathbf{f}_g = - g \\rho \\hat{\\mathbf{k}} $$\n",
    "\n",
    "where $g \\simeq$ 9.8 m s$^{-2}$ is the gravitational acceleration and $\\hat{\\mathbf{k}}$ is the unit vector pointing \"up\", i.e. away from Earth's center of mass. A slightly more general form is to express this force in terms of the gravitational [geopotential field](https://en.wikipedia.org/wiki/Geopotential) $\\Phi_g$ of earth:\n",
    "\n",
    "$$ \\mathbf{f}_g = - \\rho \\nabla \\Phi_g \\ .$$\n",
    "\n",
    "The gravitational vector $g \\hat{\\mathbf{k}}$ is defined as the gradient of $\\Phi_g$.\n",
    "\n",
    "The gravitational force acts to pull all fluid parcels \"down\" towards the Earth's center of mass. However, because of the factor of $\\rho$, it is less strong for less dense water. What matters is the relative difference of $\\mathbf{f}_g$ between different fluid parcels. This leads to the concept of [buoyancy](https://en.wikipedia.org/wiki/Buoyancy) (discussed in more detail below), which can push water parcels both downward _and_ upward.\n"
   ]
  },
  {
   "cell_type": "markdown",
   "metadata": {},
   "source": [
    "## Viscous Force\n",
    "\n",
    "Viscosity represents the molecular friction that occurs within the fluid as is moves. The viscous force is given by the formula\n",
    "\n",
    "$$ \\mathbf{f}_{visc} = \\mu \\nabla^2 \\mathbf{u} $$\n",
    "\n",
    "where $\\mathbf{u}$ is the fluid velocity and $\\mu$ is the _dynamic viscosity_, a molecular property of the fluid. A representiative value of $\\mu$ is 1.3 $\\times 10^{-3}$ N s m$^{-2}$.\n",
    "\n",
    "It can be easier to understand the viscous force if we consider flow in only one direction. Consider a zonal flow $u(y)$ that varies in the y-dimension, as shown in the cartoon below. In this case, the viscous vorce in the x-direction is given by\n",
    "\n",
    "$$ \\mu \\frac{\\partial^2 u}{\\partial y^2} \\ .$$\n",
    "\n",
    "Which is proportional to the _curvature_ of the profile $u(y)$. The cartoon illustrates a typical jet, with enhanced velocity at the jet axis. The curvature of such a jet profile ensures that the viscous force is negatuve, such that it acts to _retard_ the jet, with a maximum magnitude right at the jet core. One interpretation of this situation is that viscosity diffuses momentum away from the jet core towards the jet flanks. \n",
    "\n",
    "![shear flow](images/viscosity.svg)\n",
    "\n",
    "Viscosity is mathematically and physically analagous to diffusion."
   ]
  },
  {
   "cell_type": "markdown",
   "metadata": {},
   "source": [
    "## Acceleration\n",
    "\n",
    "### Defining position, velocity and acceleration\n",
    "\n",
    "A water parcel's position at a given time $t$ is given by a three dimensional vector $\\mathbf{x}(x,y,z,t)$. The instantaneous rate of change of the position of such a fluid element defines the fluid velocity:\n",
    "\n",
    "$$ \\mathbf{u}  = (u, v, w)\\equiv \\od{\\mathbf{x}}{t} \\ . $$\n",
    "\n",
    "The rate of change of velocity is acceleration:\n",
    "\n",
    "$$ \\mathbf{a}  = \\od{\\mathbf{u}}{t} \\ . $$\n",
    "\n",
    "If we planned to use the Lagrangian approach for describing the fluid motion (following each water parcel around), we could leave it at that.\n",
    "But we intend to use the Eulerian approach (measuring quantities at fixed locations in space).\n",
    "We need to recall the definition of the _material derivative_ from the advection / diffusion lecture.\n",
    "The rate of change of any water parcel property in the Eulerian frame is given by the material derivative\n",
    "\n",
    "$$ \\td{}{t} = \\pd{}{t} + \\mathbf{u} \\cdot \\nabla . $$\n",
    "\n",
    "Applying this to acceleration gives\n",
    "\n",
    "$$ \\mathbf{a} = \\td{\\mathbf{u}}{t} = \\pd{\\mathbf{u}}{t} + \\mathbf{u} \\cdot \\nabla \\mathbf{u} \\ .$$\n",
    "\n",
    "### Rotating Reference Frame\n",
    "\n",
    "Newton's second law only applies with an [inertial frame of reference](https://en.wikipedia.org/wiki/Inertial_frame_of_reference).\n",
    "Yet we make our observations of the ocean from on the rotating Earth, most definitely a non-inertial reference frame.\n",
    "This complicates matters significantly.\n",
    "In order to relate the velocity and acceleration we actually measure to the velocity in the inertial reference frame, we need to understand how to transform vectors from a rotating to a non-rotating reference frame.\n",
    "\n",
    "![Earth's rotation axis](https://upload.wikimedia.org/wikipedia/commons/6/61/AxialTiltObliquity.png)\n",
    "\n",
    "_[Dennis Nilsson CC BY 3.0 license, via Wikimedia Commons](https://upload.wikimedia.org/wikipedia/commons/6/61/AxialTiltObliquity.png)_\n",
    "\n",
    "The rotating reference frame rotates at rotation rate $\\mathbf{\\Omega}$ relative to the inertial frame.\n",
    "$\\mathbf{\\Omega}$ is a vector which points along the axis of rotation, following the right-hand rule. The magnitude $|\\mathbf{\\Omega}|$, measured in radians / s, gives the rotation rate. For Earth $|\\mathbf{\\Omega}| \\simeq 7.29 \\times 10^{-5}$ s$^{-1}$.\n",
    "\n",
    "Let $\\mathbf{v}$ denote an arbirary vector and $( d \\mathbf{v} / dt )_R$ its rate of change measured in the rotating reference frame. The rate of change of this vector in the inertial reference frame is given by\n",
    "\n",
    "$$ \\left( \\od{\\mathbf{v}}{t} \\right)_I = \\left( \\od{\\mathbf{v}}{t} \\right)_R + \\mathbf{\\Omega} \\times \\mathbf{v} $$\n",
    "\n",
    "The second term on the RHS, the cross product between $\\mathbf{\\Omega}$ and $\\mathbf{v}$, is due to the motion of the rotating reference frame relative to the inertial reference frame.\n",
    "\n",
    "We now apply this rule to velocity and acceleration. Our goal is to arrive an an expression for the acceleration in the inertial frame, but we start with the velocity. The velocity in the inertial frame is given by\n",
    "\n",
    "$$ \\begin{align}\n",
    "\\mathbf{u}_I = \\left( \\od{\\mathbf{x}}{t} \\right)_I &= \\left( \\od{\\mathbf{x}}{t} \\right)_R + \\mathbf{\\Omega} \\times \\mathbf{x} \\\\\n",
    "&= \\mathbf{u}_R + \\mathbf{\\Omega} \\times \\mathbf{x}\n",
    "\\end{align} $$\n",
    "\n",
    "The acceleration in the inertial frame is given by the rate of change of velocity in the inertial frame:\n",
    "\n",
    "$$ \\begin{align}\n",
    "\\mathbf{a}_I = \\left( \\od{\\mathbf{u}_I}{t} \\right)_I &= \\left( \\od{\\mathbf{u}_I}{t} \\right)_R + \\mathbf{\\Omega} \\times \\mathbf{u}_I \\\\\n",
    "&= \\left( \\od{\\mathbf{u}_R}{t} \\right)_R + \\mathbf{\\Omega} \\times \\mathbf{u}_R\n",
    "   + \\mathbf{\\Omega} \\times \\mathbf{u}_R + \\mathbf{\\Omega} \\times \\mathbf{\\Omega} \\times \\mathbf{x} \\\\\n",
    "&= \\mathbf{a}_R + 2 \\mathbf{\\Omega} \\times \\mathbf{u}_R + \\mathbf{\\Omega} \\times \\mathbf{\\Omega} \\times \\mathbf{x}\n",
    "\\end{align} $$\n",
    "\n",
    "The derivation above shows that, when measuring acceleration in the rotating frame, we need to add two additional terms (both proportional to $\\mathbf{\\Omega}$) in order to recover the acceleration in the inertial frame (which is what we need for Newton's second law)."
   ]
  },
  {
   "cell_type": "markdown",
   "metadata": {},
   "source": [
    "### Centrifugal Acceleration / Force\n",
    "\n",
    "The term $\\mathbf{\\Omega} \\times \\mathbf{\\Omega} \\times \\mathbf{x}$ is called the centrifugal acceleration. It is a function of position only. Specifically, it is a function of the distance from the Earth's rotation axis $r$, and it points outward away from the rotation axis:\n",
    "\n",
    "$$ \\mathbf{\\Omega} \\times \\mathbf{\\Omega} \\times \\mathbf{x}\n",
    "= |\\mathbf{\\Omega}|^2 r \\hat{\\mathbf{r}}\n",
    "= |\\mathbf{\\Omega}|^2 a \\cos(\\varphi) $$\n",
    "\n",
    "where $a$ is the Earth's radius and $\\varphi$ is latitude. It is common pracise to move the centrifugual acceleration to the right hand side of equation of motion and call it the centrifugal force. It is a \"fictious\" force that is felt by observers in the rotating reference frame. We define this force as\n",
    "\n",
    "$$ \\mathbf{f}_{c} = - \\mathbf{\\Omega} \\times \\mathbf{\\Omega} \\times \\mathbf{x} = - \\nabla \\Phi_{cent} $$\n",
    "\n",
    "where \n",
    "\n",
    "$$ \\Phi_{c} = \\frac{|\\mathbf{\\Omega}|^2 a^2 \\cos^2( \\varphi)}{2} \\ .$$\n",
    "\n",
    "We combine it with the gravitational potential to form a single \"effective\" geopotential:\n",
    "\n",
    "$$ \\Phi = \\Phi_g + \\Phi_{c} \\ .$$\n",
    "\n",
    "Because Earth's surface naturally conforms to this geopotential, we don't have to worry about it in practice. We simply treat $\\Phi$ as the gravitational field."
   ]
  },
  {
   "cell_type": "markdown",
   "metadata": {},
   "source": [
    "### Coriolis Acceleration\n",
    "\n",
    "The term $2 \\mathbf{\\Omega} \\times \\mathbf{u}_R$ is called the [Coriolis acceleration](https://en.wikipedia.org/wiki/Coriolis_force) (or, on the right hand side of the equation, the Coriolis force).\n",
    "It can be interpreted as another fictious force that is felt in the non-rotating reference frame.\n",
    "\n",
    "It is instructive to look at the equation of motion including only the acceleration and coriolis terms:\n",
    "\n",
    "$$ \\od{\\mathbf{u}}{t} = - 2 \\Omega \\times \\mathbf{u} \\ .$$\n",
    "\n",
    "(We have dropped the subscript $R$; everything is assumed to be measured in the rotating reference frame.) This equation tells us that the fluid will be accelerated in a direction perpendicular to it's velocity. A fluid parcel that obeys this equation would appear to move in a straight line in the inertial frame, but follows a curved path in the rotating frame. This sort of motion is called an _inertial oscillation_.\n",
    "\n",
    "![coriolis effect](https://upload.wikimedia.org/wikipedia/commons/b/b6/Corioliskraftanimation.gif)"
   ]
  },
  {
   "cell_type": "markdown",
   "metadata": {},
   "source": [
    "## Putting it all together\n",
    "\n",
    "The full equation of motion, in the rotating reference frame, can now be written as\n",
    "\n",
    "$$ \\rho \\left ( \\td{\\mathbf{u}}{t} + 2 \\mathbf{\\Omega} \\times \\mathbf{u} \\right )\n",
    "= - \\nabla p - \\rho \\nabla \\Phi + \\mu \\nabla^2 \\mathbf{u} \\ . $$\n",
    "\n",
    "It is common to divide through by $\\rho$ to obtain the form\n",
    "\n",
    "$$ \\td{\\mathbf{u}}{t} + 2 \\mathbf{\\Omega} \\times \\mathbf{u}\n",
    "= - \\frac{1}{\\rho} \\nabla p - \\nabla \\Phi + \\nu \\nabla^2 \\mathbf{u} $$\n",
    "\n",
    "where $\\nu = \\mu / \\rho$ is called the _kinematic viscosity_."
   ]
  },
  {
   "cell_type": "markdown",
   "metadata": {},
   "source": [
    "## Common Approximations\n",
    "\n",
    "The full equations of motion are hard to solve and, in many cases, unnecessarily comlex for the study of large-scale ocean circulation. Below we review some of the common approximations used to simplify the equations."
   ]
  },
  {
   "cell_type": "markdown",
   "metadata": {},
   "source": [
    "### Hydrostatic Balance\n",
    "\n",
    "The vertical component of the equation of motion is dominated by the effect of gravity. The dominant balance is between the gravitational force and the pressure gradient for;  this is called _hydrostatic balance_:\n",
    "\n",
    "$$ \\pd{p}{z} = -\\rho g $$\n",
    "\n",
    "where $g = | \\nabla \\Phi |$ is the combined gravitational and centrifugal acceleration coefficient."
   ]
  },
  {
   "cell_type": "markdown",
   "metadata": {},
   "source": [
    "### Boussinesq Approximation\n",
    "\n",
    "We have already seen the Boussinesq approximation, which states that density variations $\\delta \\rho$ are very small compared to the background density $\\rho_0$, i.e.\n",
    "\n",
    "$$ \\rho = \\rho _0 + \\delta \\rho \\ ; \\ \\ |\\delta \\rho| \\ll \\rho_0 \\ . $$\n",
    "\n",
    "The background density $\\rho_0$ is in hydrostatic balance with a background pressure gradient, such that\n",
    "\n",
    "$$ \\pd{}{z} p_{ref}(z)= - \\rho_0 \\pd{\\Phi}{z} = - \\rho_0 g $$\n",
    "\n",
    "What remains of the pressure is called the _dynamic pressure_ $\\phi$; it is usually normalized by $\\rho_0$, for reasons that will become clear:\n",
    "\n",
    "$$ \\delta p = p - p_{ref} \\ ; \\ \\ \\ \\phi = \\frac{\\delta p}{\\rho_0} $$\n",
    "\n",
    "We now examine what happens when we apply the boussinesq approximation to the equations of motion. The left-hand side becomes\n",
    "\n",
    "$$ (\\rho_0 + \\delta \\rho) \\left ( \\td{\\mathbf{u}}{t} + 2 \\mathbf{\\Omega} \\times \\mathbf{u} \\right ) \\ . $$\n",
    "\n",
    "Because $\\rho_0$ is so much greater than $\\delta \\rho$, we simply drop the $\\delta \\rho term to obtain\n",
    "\n",
    "$$ \\rho_0 \\left ( \\td{\\mathbf{u}}{t} + 2 \\mathbf{\\Omega} \\times \\mathbf{u} \\right ) \\ .$$ \n",
    "\n",
    "We will divide the whole equation through by $\\rho_0$ to remove it from the left-hand side.\n",
    "Let's now consider together the pressure and gravity terms on the right-hand side:\n",
    "\n",
    "$$ - \\frac{1}{\\rho_0} \\nabla (p_{ref} + \\delta p) - \\frac{\\rho_0 + \\delta \\rho}{\\rho_0} \\nabla \\Phi \\ . $$\n",
    "\n",
    "Because of how we defined $p_{ref}$, it cancels with the gravitational term proportional to $\\rho_0$, leaving just\n",
    "\n",
    "$$ - \\frac{1}{\\rho_0} \\nabla (\\delta p) - \\frac{\\delta \\rho}{\\rho_0} \\nabla \\Phi \\ . $$\n",
    "\n",
    "Using our definition of $\\phi = \\delta p / \\rho_0$, and defining the _buoyancy_ as\n",
    "\n",
    "$$ b = - g\\frac{\\delta \\rho}{\\rho_0} \\ , $$\n",
    "\n",
    "we can rewrite these terms as\n",
    "\n",
    "$$ - \\nabla \\phi + b \\hat{\\mathbf{z}} \\ . $$\n",
    "\n",
    "As for the viscous term, we simply approximate $\\nu \\simeq \\mu / \\rho_0$, leading to the final form of the Boussinesq equations of motion:\n",
    "\n",
    "$$ \\td{\\mathbf{u}}{t} + 2 \\mathbf{\\Omega} \\times \\mathbf{u}\n",
    "= - \\nabla \\phi + b \\hat{\\mathcal{z}} + \\nu \\nabla^2 \\mathbf{u} \\ . $$\n",
    "\n",
    "This is the equation we will use for our study of dynamical physical oceanography."
   ]
  },
  {
   "cell_type": "markdown",
   "metadata": {},
   "source": [
    "### Coordinates and Approximations for the Sphere\n",
    "\n",
    "For describing the global ocean circulation with the highest precision, one should work in spherical polar coordinates (longitude $\\lambda$, latitude $\\varphi$, and radial distace $r$). However, this turns out to be unnecessarily complicated for the things we will study in our class.\n",
    "\n",
    "Instead, we will use a _local tangent plane approximation_, as illustrated in the figure below.\n",
    "\n",
    "![tangent plane](https://upload.wikimedia.org/wikipedia/commons/7/73/ECEF_ENU_Longitude_Latitude_relationships.svg)\n",
    "*By Mike1024 [Public domain], via [Wikimedia Commons](https://commons.wikimedia.org/wiki/File%3AECEF_ENU_Longitude_Latitude_relationships.svg)*\n",
    "\n",
    "In this approximation, we assume we are looking at region small enough that the Earth appears locally flat, such that we can use cartesian geometry. This region is centered around position $\\lambda_{ref}$, $\\varphi_{ref}$.\n",
    "The local cartesian coordinates are then defined as\n",
    "\n",
    "| name | direction | velocity | local coord | relation to spherical coord |\n",
    "|--|--|--|--|--|\n",
    "| zonal | east | $u$ | $x$   | $(\\lambda - \\lambda_{ref}) \\cos(\\varphi) / a$ |\n",
    "| meridional | north | $v$ | $y$ | $(\\varphi - \\varphi_{ref}) / a$ |\n",
    "| vertical | up | $w$ | $z$     | $r - r_{ref} $ |\n",
    "\n",
    "\n",
    "where $a$ is the Earth's radius.\n",
    "\n",
    "As a further approximation, we only keep the components of the Coriolis force that act in the horizontal plane on the horizontal velocities. This turns out to be a very good approximation, due to the small aspect ratio of the ocean and the relative smallness of the vertical flow.\n",
    "\n",
    "We can now write the Boussinesq equation of motion in component form:\n",
    "\n",
    "$$ \\begin{align}\n",
    "\\td{u}{t} - f v &= -\\pd{\\phi}{x} + \\nu \\nabla^2 u \\\\\n",
    "\\td{v}{t} + f u &= -\\pd{\\phi}{y} + \\nu \\nabla^2 v \\\\\n",
    "\\td{w}{t}       &= -\\pd{\\phi}{z} + b + \\nu \\nabla^2 w  \\ .\n",
    "\\end{align} $$\n",
    "\n",
    "We have introduced the _Coriolis parameter_ $f = 2 \\Omega \\sin(\\varphi)$. The coriolis parameter varies from zero at the equator to its maximum value of $2 \\Omega$ at the pole. This reflects the cross product in the full Coriolis acceleration ($2 \\mathbf{\\Omega} \\times \\mathbf{u} $). At the equator, the horizontal flow occurs in a plane parallel to the rotation vector and thus experiences no effective Coriolis acceleration. At the pole, the horizontal flow is completely perpendicular to the rotation vector."
   ]
  },
  {
   "cell_type": "code",
   "execution_count": null,
   "metadata": {
    "collapsed": true,
    "jupyter": {
     "outputs_hidden": true
    }
   },
   "outputs": [],
   "source": []
  }
 ],
 "metadata": {
  "kernelspec": {
   "display_name": "Python 3 (ipykernel)",
   "language": "python",
   "name": "python3"
  },
  "language_info": {
   "codemirror_mode": {
    "name": "ipython",
    "version": 3
   },
   "file_extension": ".py",
   "mimetype": "text/x-python",
   "name": "python",
   "nbconvert_exporter": "python",
   "pygments_lexer": "ipython3",
   "version": "3.8.12"
  }
 },
 "nbformat": 4,
 "nbformat_minor": 4
}
