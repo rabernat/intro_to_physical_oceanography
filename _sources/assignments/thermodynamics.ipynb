{
 "cells": [
  {
   "cell_type": "markdown",
   "metadata": {},
   "source": [
    "# Assignment: Thermodynamics of Seawater\n",
    "\n",
    "For this assignment, you may use the following equation of state:\n",
    "\n",
    "$$ \\rho \\simeq \\rho_0 \\left [ 1 - \\frac{gz}{c_0^2} - \\alpha_0(1 - \\gamma_B z)(\\Theta - \\Theta_0)\n",
    "- \\frac{\\gamma_C}{2}(\\Theta - \\Theta_0)^2 + \\beta_0 (S_A - S_{A0} ) \\right ]\n",
    "$$\n",
    "\n",
    "This equation, and its approximate parameters, are given in the following paper:\n",
    "https://agupubs.onlinelibrary.wiley.com/doi/epdf/10.1002/2015GL065525\n",
    "\n",
    "Note that depth ($z$) is defined as negative downward.\n",
    "\n",
    "| parameter | value |\n",
    "|-----------|-------|\n",
    "| $\\rho_0$ | 1027 kg m$^{-3}$ |\n",
    "| g | 9.81 m s$^{-2}$ |\n",
    "| c |  1500 m s$^{-1}$ | \n",
    "| $\\alpha_0$ | 1.67 $\\times 10^{-4} \\ K^{-1}$ |\n",
    "| $\\gamma_B$ | 1.12 $\\times 10^{-4} \\ m^{-1}$ |\n",
    "| $\\gamma_C$ | $10^{−5} K^{−2}$ |\n",
    "| $\\beta_0$ | 0.78$\\times 10^{-3} \\ (g/kg)^{-1}$ |\n",
    "| $\\Theta_0$ | 10 deg. C | \n",
    "| $S_0$ | 35 g/kg |"
   ]
  },
  {
   "cell_type": "markdown",
   "metadata": {},
   "source": [
    "## 1) Derive the following quantities in analytical form (20 points)\n",
    "\n",
    "- thermal expansion coefficient\n",
    "- haline contraction coefficient\n",
    "\n",
    "Use the mathematical definitions of these coefficients (given in lecture) and the above equation for density to derive the analytical expressions. \n",
    "\n",
    "Comment on the nonlinearities, or lack thereof, in your results. Give a physical interpretation for the parameters $\\gamma_B$ and $\\gamma_C$. What would happen if you set them to zero? \n",
    "\n",
    "(To make life easier, wherever the expression $1/\\rho$ appears, you may approximate it as $1/\\rho_0$, in keeping with the smallness of the density anomalies.)"
   ]
  },
  {
   "cell_type": "markdown",
   "metadata": {},
   "source": [
    "## 2) Volume and Mass (20 points)\n",
    "\n",
    "The [Mediterranean Sea](https://en.wikipedia.org/wiki/Mediterranean_Sea) has a surface area of approx. 2,500,000 km$^2$ and an average depth of 1500 m.\n",
    "\n",
    "1. What is its volume?\n",
    "2. Assume the density increases linearly in depth from 1027 to 1035 kg m$^{-3}$. What is its total mass?\n",
    "3. Let's say that the annual mean rate of evaporation minus precipitation out of the sea is 10 cm / year (net evaporation). How long will it take to evaporate away the entire basin?"
   ]
  },
  {
   "cell_type": "markdown",
   "metadata": {},
   "source": [
    "## 3) Mixing Ratios - Two Sources (20 points)\n",
    "\n",
    "This problem uses the fact that $\\Theta$ and $S_A$ are conserved to learn about the composition of water found in the ocean interior.\n",
    "\n",
    "Imagine you have two \"source\" water masses: a polar one ($\\Theta_1 = 2^\\circ$ C, $S_1 = 32$ g/kg) and a tropical one ($\\Theta_1 = 20^\\circ$ C, $S_1 = 35$ g/kg).\n",
    "These two water masses mix in the interior to form thermocline water.\n",
    "\n",
    "1. What is the $\\Theta$ and $S$ of the thermocline water assuming that each source water mass makes a 50/50 contribution?\n",
    "2. What if the polar water only contributes 10% and the tropical water contributes 90%?\n",
    "3. Find the general rule for the thermocline water composition given the mixing ratio $R$. ($R=1$ means 100% polar water; $R=0$ means 100% tropical water)\n",
    "4. Plot the possible values that the thermocline water can take from $R=0$ to $R=1$ in a $\\Theta$-$S$ diagram. Why are the sources often called \"end members\"?"
   ]
  },
  {
   "cell_type": "markdown",
   "metadata": {},
   "source": [
    "## 4) Mixing Ratios - Three Sources (too hard, optional, no points)\n",
    "\n",
    "The assumption that there were only two source end members is highly simplistic. What if we have three source end members?\n",
    "\n",
    "End member 1: $\\Theta_1$, $S_1$, contributes fraction $R_1$ to the interior water\n",
    "\n",
    "End member 2: $\\Theta_2$, $S_2$, contributes fraction $R_2$ to the interior water\n",
    "\n",
    "End member 3: $\\Theta_3$, $S_3$, contributes fraction $R_3$ to the interior water\n",
    "\n",
    "1. Given the observed thermocline temperature and salinity $\\Theta$ and $S$, find an expression for $R_1$ and $R_2$ and $R_3$.\n",
    "2. There are some circumstances under which this can't be solved: What are they?**\n",
    "\n",
    "Some hints:\n",
    "- first define your system of equations and solve it as a linear algebra problem of the form Ax=b\n",
    "- note that $R_1 + R_2 + R_3 = 1$, so we only need to solve for two out of three fractions\n",
    "\n"
   ]
  },
  {
   "cell_type": "markdown",
   "metadata": {},
   "source": [
    "## 5) Cabbeling of Antarctic Intermediate Water (20 points)\n",
    "\n",
    "Along the sloping isopycnals of the southern ocean, cool, fresh surface water mixes with warmer, saltier deeper water.\n",
    "Consider two water masses:\n",
    "\n",
    "Surface Origin: $S_A = 34.2$ g/kg, $\\Theta = 1^\\circ$ C\n",
    "\n",
    "Deep Origin: $S_A = 34.4$ g/kg, $\\Theta = 2.65^\\circ$ C\n",
    "\n",
    "1. The two water masses both make their way to 500 m depth. Calculate the density of each before mixing.\n",
    "1. Now let the two water masses mix with a 50/50 mixing ratio.  What is the resulting $\\Theta$ and $S$ of the mixed water mass? How does it compare to the average $\\Theta$ and $S$ before mixing?\n",
    "1. What is the resulting density after mixing? How does it compare to the average density before mixing?\n",
    "\n",
    "This is cabbeling."
   ]
  },
  {
   "cell_type": "markdown",
   "metadata": {},
   "source": [
    "## 6) Thermobaric Effect on NADW and ABW (20 points)\n",
    "\n",
    "Typical water mass properties of North Atlantic Deep Water (NADW) are $S_A = 34.9$ g/kg, $\\Theta = 1^\\circ$ C.\n",
    "\n",
    "Typical water mass properties of Antarctic Bottom Water (NADW) are $S_A = 34.6$ g/kg, $\\Theta = -1.5^\\circ$ C.\n",
    "\n",
    "1. Calculate the potential density of these water masses with respect to 4000 m depth. Which is denser in the deep ocean?\n",
    "1. Calculate the potential density of these water masses with respect to 0 m depth. Which is denser at the surface?\n",
    "1. Repeat the calculation taking $\\gamma_B=0$.\n",
    "1. Comment on the role of the thermobaric effect in the global ocean stratification."
   ]
  }
 ],
 "metadata": {
  "kernelspec": {
   "display_name": "Python 3 (ipykernel)",
   "language": "python",
   "name": "python3"
  },
  "language_info": {
   "codemirror_mode": {
    "name": "ipython",
    "version": 3
   },
   "file_extension": ".py",
   "mimetype": "text/x-python",
   "name": "python",
   "nbconvert_exporter": "python",
   "pygments_lexer": "ipython3",
   "version": "3.8.10"
  }
 },
 "nbformat": 4,
 "nbformat_minor": 4
}
