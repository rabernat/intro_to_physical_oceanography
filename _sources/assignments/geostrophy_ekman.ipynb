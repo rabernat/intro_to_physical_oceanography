{
 "cells": [
  {
   "cell_type": "markdown",
   "metadata": {},
   "source": [
    "# Homework 3: Thermal Wind and Ekman Transports #\n",
    "\n",
    "In this problem set you will apply the concepts of geostrophic balance, thermal wind balance, and Ekman transport to simple calculations."
   ]
  },
  {
   "cell_type": "markdown",
   "metadata": {},
   "source": [
    "## 1) Surface Geostrophy and Thermal Wind in Drake Passage\n",
    "\n",
    "Consider the cartoon shown here which represents a simplified meridional cross section across the Drake Passage in the Southern Ocean.\n",
    "A major simplification is that $\\eta$ and $b$ are assumed to vary _linearly_ in the y direction, and that the geostrophic velocity $u_g$ varies _linearly_ in depth.\n",
    "\n",
    "![Drake Passage](figures/drake_passage.png)\n",
    "\n",
    "### 1a) What is the strength of the sea surface height gradient $\\partial \\eta / \\partial y$ in terms of the given parameters."
   ]
  },
  {
   "cell_type": "markdown",
   "metadata": {},
   "source": [
    "### 1b) Using surface geostrophic balance, estimate the speed of the zonal surface current.\n",
    "\n",
    "Use the following parameters: $L = 850 km$, $\\eta_{max} = 1$  m."
   ]
  },
  {
   "cell_type": "markdown",
   "metadata": {},
   "source": [
    "### 1c) Calculate the effective depth $D$ over which the zonal current falls to zero\n",
    "\n",
    "...assuming a total transport of 180 Sv. Also assume the following:\n",
    "- The surface current speed is 0.1 m/s (should roughly match answer from part b)\n",
    "- The current decays linearly with depth until from the surface to $z=-D$\n",
    "- The current is uniform in the y direction\n",
    "\n",
    "Note that this part of the problem does not involve geostrophy or anything relating to equations of motion.\n",
    "It's just a volume transport calculation.\n",
    "\n"
   ]
  },
  {
   "cell_type": "markdown",
   "metadata": {},
   "source": [
    "### 1d) Use thermal wind to estimate the North-South temperature difference across the drake passage based on the geostrophic shear\n",
    "\n",
    "Assume:\n",
    "- The equation of state is linear and only contains temperature, with $b = g \\alpha \\Theta$, with $\\alpha = 1.6 \\times 10^{-4}$ K$^{-1}$.\n",
    "- The geostrophic shear is uniform over depth $D$ and zero below.\n",
    "- $D = 4000$ m (should roughly match the answer from part c).\n",
    "\n",
    "Compare you estimate the the potential temperature field from the [WOCE Southern Ocean Atlas Drake Passage section](http://woceatlas.tamu.edu/printed/SOA_S1.html).\n",
    "Is your number reasonable?"
   ]
  },
  {
   "cell_type": "markdown",
   "metadata": {},
   "source": [
    "## 2) Surface Geostrophy and Thermal Wind in the North Atlantic\n",
    "\n",
    "The cartoon below shows a zonal cross section across the North Atlantic passing through the Gulf Stream and the subtropical gyre.\n",
    "Going from West to East, the sea-surface height $\\eta$ quickly increases to $\\eta_{max}$ and then decays more slowly back to zero on the Eastern boundary.\n",
    "Assume all these changes are linear; this is a highly simplified representation that makes it easier to make calculations.\n",
    "This SSH pattern is qualitatively similar to the real SSH pattern off the Eastern US.\n",
    "\n",
    "![Drake Passage](figures/north_atlantic.png)\n",
    "\n"
   ]
  },
  {
   "cell_type": "markdown",
   "metadata": {},
   "source": [
    "### 2a) What is the strength of the sea surface height gradient $\\partial \\eta / \\partial x$ in terms of the given parameters in the Northward Flow Region and the Southward Flow Region."
   ]
  },
  {
   "cell_type": "markdown",
   "metadata": {},
   "source": [
    "### 2b) Using surface geostrophic balance, estimate the speed of the meridional surface current in each of the two regions.\n",
    "\n",
    "Use the following parameters: $L_1 = 500 km$, $L_2 = 3000 km$, $\\eta_{max} = 0.5$  m."
   ]
  },
  {
   "cell_type": "markdown",
   "metadata": {},
   "source": [
    "### 2c) Calculate the effective depth $D$ over which the meridional current $v_g$ falls to zero\n",
    "\n",
    "Assume the total northward transport in the Northward Flow region (Gulf Stream) is 50 Sv.\n",
    "Assume equal and opposite transport in the Southward Flow region.\n",
    "\n",
    "Also assume:\n",
    "- The meridional surface current speed in the gulf stream region is 0.1 m/s (should roughly match part b).\n",
    "- The current decays linearly with depth until from the surface to $z=-D$\n",
    "- The current is uniform in the x direction\n",
    "\n",
    "Note that this part of the problem does not involve geostrophy or anything relating to equations of motion.\n",
    "It's just a volume transport calculation.\n",
    "It does not matter whether you do the calculation for the Northward Flow region or the Southward Flow region.\n",
    "You should get the same answer."
   ]
  },
  {
   "cell_type": "markdown",
   "metadata": {},
   "source": [
    "### 2d) Use thermal wind to calculate the implied temperature at the following locations\n",
    "\n",
    "- $z=-1000$ m, $x = L_1$\n",
    "- $z=-1000$ m, $x = L_1 + L_2$ (the Eastern boundary)\n",
    "\n",
    "Assume the temperature on the Western boundary at 1000 m depth is 5$^\\circ$ C.\n",
    "Assume the depth scale $D = 2000$ m (should match the answer from part c.)\n",
    "\n",
    "Use all the other same assumptions as part 1d."
   ]
  },
  {
   "cell_type": "markdown",
   "metadata": {},
   "source": [
    "## 3) Ekman Transport\n",
    "\n",
    "To be posted"
   ]
  },
  {
   "cell_type": "code",
   "execution_count": null,
   "metadata": {},
   "outputs": [],
   "source": []
  }
 ],
 "metadata": {
  "kernelspec": {
   "display_name": "Python [conda env:miniconda3-eeds-book]",
   "language": "python",
   "name": "conda-env-miniconda3-eeds-book-py"
  },
  "language_info": {
   "codemirror_mode": {
    "name": "ipython",
    "version": 3
   },
   "file_extension": ".py",
   "mimetype": "text/x-python",
   "name": "python",
   "nbconvert_exporter": "python",
   "pygments_lexer": "ipython3",
   "version": "3.9.6"
  }
 },
 "nbformat": 4,
 "nbformat_minor": 4
}
