{
 "cells": [
  {
   "cell_type": "markdown",
   "id": "da4da8f3-e8ed-4e55-81f9-0051aec67bc8",
   "metadata": {
    "slideshow": {
     "slide_type": "slide"
    }
   },
   "source": [
    "# Ocean State Estimation\n"
   ]
  },
  {
   "cell_type": "markdown",
   "id": "e3f39b1f-7f17-465c-9289-bad7ca85200b",
   "metadata": {
    "slideshow": {
     "slide_type": "slide"
    }
   },
   "source": [
    "## What do we want to know about the ocean?\n",
    "\n",
    "From the point of view of climate science, some of the most important questions we want to answer about the ocean are:\n",
    "- What is the _mean_ state of the ocean's master variables (temperature, salinity, velocities, and sea-surface height)?\n",
    "- How does the ocean state vary in time?\n",
    "- What is the strength and direction of ocean transports of mass, heat, and salt; and how do these transports vary in time?\n",
    "- What is the exchange of heat, freshwater, and momentum with the atmosphere?\n",
    "\n",
    "Ocean observations come from a huge range of difference sources, but for the most part, there are few _direct_ observations of these quantities.\n",
    "Furthermore these observations have their own errors and inconsistencies.\n",
    "How can they be synthesized into a \"best guess\" of the true ocean state?\n",
    "This is a challenging scientific and engineering problem.\n",
    "\n"
   ]
  },
  {
   "cell_type": "markdown",
   "id": "9d089070-6167-44bb-91e5-f6dac998c0df",
   "metadata": {
    "slideshow": {
     "slide_type": "slide"
    }
   },
   "source": [
    "## Ocean General Circulation Models\n",
    "\n",
    "\n",
    "<img src=\"https://upload.wikimedia.org/wikipedia/commons/7/73/AtmosphericModelSchematic.png\" style=\"float: right;\" />\n",
    "\n",
    "Ocean General Circulation Models (GCMs) encode our understanding of the laws of physics into a computer program that can be run on a computer (usually a supercomputer).\n",
    "They solve numerically the appropriate physical equations (usually partial differential equations; e.g. momentum equation, heat equations) subject to specified boundary conditions (e.g. the atmospheric state).\n",
    "\n",
    "Ocean models divide the ocean up into discrete \"grid cells\". \n",
    "The smaller the cells, the more accurate and detailed the simulation; this is called \"resolution\".\n",
    "But high resolution is also expensive...the time it takes to solve the equations depends roughly on $\\Delta X^3$, where $\\Delta X$ is the size of the grid box (in meters)."
   ]
  },
  {
   "cell_type": "markdown",
   "id": "0cd54a45-6c0a-47c9-a047-371a35f0b410",
   "metadata": {
    "slideshow": {
     "slide_type": "subslide"
    }
   },
   "source": [
    "#### Ocean models aren't perfect, but they are _consistent_...\n",
    "\n",
    "Ocean models do not provide a perfect representation of the ocean.\n",
    "But they do provide a _consistent_ one.\n",
    "A well-formulated ocean model exactly conserves quantities like heat, energy, and momentum, just like the real ocean.\n",
    "\n",
    "#### The butterfly effect\n",
    "\n",
    "<img src=\"https://github.com/chris-greening/double-pendula/raw/master/ten.gif\" style=\"float: right;\" />\n",
    "\n",
    "However, even a perfect model would not reproduce the real ocean state and its evolution over time exactly.\n",
    "Due to the inherent chaos in the governing equations, miniscule differences in initial conditions between the\n",
    "model and the real world would eventually amplify and cause the simulation to diverge from the real world.\n",
    "This is often called the [Butterfly Effect](https://en.wikipedia.org/wiki/Butterfly_effect).\n",
    "\n"
   ]
  },
  {
   "cell_type": "markdown",
   "id": "f771fc81-14d6-4b13-aa78-9e58d4badadd",
   "metadata": {
    "slideshow": {
     "slide_type": "subslide"
    },
    "tags": []
   },
   "source": [
    "## Data Assimilation\n",
    "\n",
    "Data assimilation is a set of methologies for making a simulation consistent with observations.\n",
    "\n",
    "The state estimate uses a form of data assimilation called _4D Var_ or \"four-dimensional variational\" assimilation. This works by iteratively adjusting the initial conditions and boundary conditions of the simulation to bring it as close as possible to the observations. The observations are weighed relative to their uncertainties. This method produces estimates that are consistent with diverse observations yet still respect the conservation properties encoded in the GCM.\n",
    "\n",
    "\n",
    "![data assimilation](/files/intro_to_physical_oceanography/book/images/4Dvar_data_assimilation.gif)\n",
    "\n",
    "Image credit:\n",
    "\n",
    "Zaron E.D. (2011) _Introduction to Ocean Data Assimilation._ In: Schiller A., Brassington G. (eds) Operational Oceanography in the 21st Century. Springer, Dordrecht. https://doi.org/10.1007/978-94-007-0332-2_13\n"
   ]
  },
  {
   "cell_type": "markdown",
   "id": "55c17380-8652-446b-95f4-683c69834145",
   "metadata": {
    "slideshow": {
     "slide_type": "slide"
    }
   },
   "source": [
    "# ECCO: Estimating the Circulation and Climate of the Ocean\n",
    "\n",
    "\n",
    "<img src=\"https://science.jpl.nasa.gov/media/images/ECCO.max-500x500.jpg\" width=\"30%\" style=\"float: right\" />\n",
    "\n",
    "\n",
    "In this class, we will work with data from the [NASA ECCO Ocean State Estimate](https://www.ecco-group.org/).\n",
    "This product is the most comprehensive ocean state estimate for looking at things like ocean transport and budgets.\n",
    "\n",
    "\n",
    "Let's first review the data sources used to constrain ECCO."
   ]
  },
  {
   "cell_type": "markdown",
   "id": "8260e581-497f-4419-9da6-d3c2aedd6379",
   "metadata": {
    "slideshow": {
     "slide_type": "slide"
    },
    "tags": []
   },
   "source": [
    "### Sea Surface Height\n",
    "\n",
    "<img style=\"float: right;\" width=\"40%\" src=\"https://sealevel.jpl.nasa.gov/internal_resources/701_OceanSurfaceTopographyMissions2020.jpg\" />\n",
    "\n",
    "Ocean dynamic topography as measured by from space provides an important constraint on ocean heat and salt content, as well as geostrophic currents.\n",
    "\n",
    "More info about sea level data are available from <https://sealevel.jpl.nasa.gov/>\n",
    "\n",
    "Data used in ECCO include ERS-1/2 (1992-2001), TOPEX/Poseidon (1993-2005), GFO (2001-2007), ENVISAT (2002-2012), Jason-1 (2002-2008), Jason-2 (2008-2017), CryoSat-2 (2011-2017), SARAL/AltiKa (2013-2017), Jason-3 (2016-2017)"
   ]
  },
  {
   "cell_type": "markdown",
   "id": "61dd0a41-ffaf-48ff-8ada-4b15e5a5e056",
   "metadata": {
    "slideshow": {
     "slide_type": "subslide"
    }
   },
   "source": [
    "#### How we measure Sea Surface Height from space\n",
    "\n",
    "<img src=\"https://upload.wikimedia.org/wikipedia/commons/3/35/Poseidon.graphic.jpg\" />\n",
    "\n",
    "Via <https://commons.wikimedia.org/wiki/File:Poseidon.graphic.jpg>"
   ]
  },
  {
   "cell_type": "markdown",
   "id": "175fa5ab-68e9-4506-969a-83d3c7ed83fe",
   "metadata": {
    "slideshow": {
     "slide_type": "slide"
    }
   },
   "source": [
    "### In Situ Temperature and Salinity\n",
    "\n",
    "<img src=\"https://upload.wikimedia.org/wikipedia/commons/e/e2/BrnBld_ArgoFloat.svg\" style=\"float: right;\" />\n",
    "\n",
    "\n",
    "#### Temperature\n",
    "Argo floats (1995-2017), CTDs (1992-2017), XBTs (1992-2017), marine mammals (APB 2004-2017), gliders (2003-2017), Ice-Tethered Profilers (ITP, 2004-2017), moorings (1992-2017)\n",
    "\n",
    "#### Salinity\n",
    "CTDs (1992-2017), moorings (1992-2017), Argo floats (1997-2017), gliders (2003-2017), marine mammals (APB 2004-2017), ITP (2004-2017)"
   ]
  },
  {
   "cell_type": "markdown",
   "id": "6b0c2b63-6091-4502-a8ef-6efcbcd82d89",
   "metadata": {
    "slideshow": {
     "slide_type": "subslide"
    }
   },
   "source": [
    "#### Argo Float distribution\n",
    "\n",
    "<img src=\"https://upload.wikimedia.org/wikipedia/commons/7/74/Argo_floats_in_Feb._2018_colour_coded_by_country.png\" />\n",
    "\n",
    "via <https://commons.wikimedia.org/wiki/File:Argo_floats_in_Feb._2018_colour_coded_by_country.png>"
   ]
  },
  {
   "cell_type": "markdown",
   "id": "4971ecdc-55a3-471c-9974-a4b4984e8c66",
   "metadata": {
    "slideshow": {
     "slide_type": "subslide"
    }
   },
   "source": [
    "#### World Ocean Circulation (WOCE) & GO-Ship Hydrography\n",
    "\n",
    "<img src=\"http://woceatlas.tamu.edu/images/printed/jpg/image9.jpg\" />\n",
    "\n",
    "via <http://woceatlas.tamu.edu/printed/SOA_WOCE.html>      "
   ]
  },
  {
   "cell_type": "markdown",
   "id": "7b410e69-e984-4ea5-bc5b-7be52752d888",
   "metadata": {
    "slideshow": {
     "slide_type": "slide"
    }
   },
   "source": [
    "### Sea Surface Temperature\n",
    "\n",
    "From the Advanced Very High Resolution Radiometer (AVHRR)\n",
    "\n",
    "<img src=\"https://www.ncei.noaa.gov/sites/default/files/styles/wide_full_width_image_no_crop/public/2021-07/Image_01B-08.png?itok=4_ja4rtI\" />\n",
    "\n",
    "<https://www.ncei.noaa.gov/products/climate-data-records/pathfinder-sea-surface-temperature>"
   ]
  },
  {
   "cell_type": "markdown",
   "id": "2158a673-9516-4561-9242-fc7fb1918b08",
   "metadata": {
    "slideshow": {
     "slide_type": "slide"
    }
   },
   "source": [
    "### Sea Surface Salinity\n",
    "\n",
    "NASA [Aquarius](https://aquarius.nasa.gov/) mission\n",
    "\n",
    "<img src=\"https://aquarius.oceansciences.org/images/aquarius_mission_composite_v5_molleweide.png\" />\n"
   ]
  },
  {
   "cell_type": "markdown",
   "id": "110119b4",
   "metadata": {
    "slideshow": {
     "slide_type": "subslide"
    }
   },
   "source": [
    "#### Aquarius Instrument\n",
    "\n",
    "> Aquarius was an active/passive microwave remote sensor that measured brightness temperature and radar backscatter at L-band. The antenna system's reflector produced three beams (pointed at incidence angles 25.8°, 33.8°, and 40.3° for the inner, middle, and outer beams, respectively) to obtain measurements in a push-broom fashion from feed horns pointed perpendicular to the flight direction. The beams created three fields of view at the Earth's surface resulting in a data swath of approximately 390km. Credit: NASA.\n",
    "\n",
    "\n",
    "<img src=\"https://salinity.oceansciences.org/images/aquarius_beams.png\" />\n",
    "\n",
    "via <https://salinity.oceansciences.org/gallery-images-more.htm?id=79>"
   ]
  },
  {
   "cell_type": "markdown",
   "id": "d001ab7e-6b35-4f66-b483-59e641a12ed5",
   "metadata": {
    "slideshow": {
     "slide_type": "slide"
    }
   },
   "source": [
    "### Sea Ice Concentration\n",
    "\n",
    "- Scanning Multichannel Microwave Radiometer (SMMR) instrument on the Nimbus-7 satellite\n",
    "- Special Sensor Microwave/Imager (SSM/I) and Special Sensor Microwave Imager/Sounder (SSMIS) and instruments on the Defense Meteorological Satellite Program's (DMSP)\n",
    "\n",
    "<img src=\"https://live.staticflickr.com/65535/51189318417_fce31e15ee_c_d.jpg\" />\n",
    "\n",
    "https://nsidc.org/data/smmr_ssmi"
   ]
  },
  {
   "cell_type": "markdown",
   "id": "81e9af46-67e4-4b43-83b5-cb2770adb730",
   "metadata": {
    "slideshow": {
     "slide_type": "slide"
    }
   },
   "source": [
    "### Ocean Bottom Pressure\n",
    "\n",
    "NASA [Gravity Recovery and Climate Experiment](https://www.nasa.gov/mission_pages/Grace/index.html) (GRACE).\n",
    "\n",
    "<img src=\"https://www.nasa.gov/sites/default/files/styles/946xvariable_height/public/images/623369main_pia04236-full_full.jpg?itok=ZhVnhgqg\" />"
   ]
  },
  {
   "cell_type": "markdown",
   "id": "c326f0e8",
   "metadata": {
    "slideshow": {
     "slide_type": "subslide"
    }
   },
   "source": [
    "#### Ocean Mass ↔️ Bottom Pressure\n",
    "\n",
    "The mass of the water column at each point on the Earth's surface is given by\n",
    "\n",
    "$$ M = \\int_{-H}^\\eta \\rho dz $$\n",
    "\n",
    "and, via the hydrostatic balance, the ocean bottom pressure is just\n",
    "\n",
    "$$ p_{bot} = M g \\ . $$ \n",
    "\n",
    "The GRACE mission measures slight changes in Earth's gravitational field, which are due to fluctuations in ocean mass."
   ]
  },
  {
   "cell_type": "code",
   "execution_count": null,
   "id": "b1413942",
   "metadata": {},
   "outputs": [],
   "source": []
  }
 ],
 "metadata": {
  "celltoolbar": "Slideshow",
  "kernelspec": {
   "display_name": "Python 3 (ipykernel)",
   "language": "python",
   "name": "python3"
  },
  "language_info": {
   "codemirror_mode": {
    "name": "ipython",
    "version": 3
   },
   "file_extension": ".py",
   "mimetype": "text/x-python",
   "name": "python",
   "nbconvert_exporter": "python",
   "pygments_lexer": "ipython3",
   "version": "3.8.12"
  }
 },
 "nbformat": 4,
 "nbformat_minor": 5
}
