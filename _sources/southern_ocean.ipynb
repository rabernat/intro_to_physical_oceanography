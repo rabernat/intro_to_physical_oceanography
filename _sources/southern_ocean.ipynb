{
 "cells": [
  {
   "cell_type": "markdown",
   "id": "0172ad94-c934-42f1-b955-bfb89e8e3aa1",
   "metadata": {},
   "source": [
    "$ \\newcommand{\\pd}[2]{ \\frac{\\partial #1}{\\partial #2} }\n",
    "\\newcommand{\\od}[2]{\\frac{d #1}{d #2}}\n",
    "\\newcommand{\\td}[2]{\\frac{D #1}{D #2}}\n",
    "\\newcommand{\\ab}[1]{\\langle #1 \\rangle}\n",
    "\\newcommand{\\bss}[1]{\\textsf{\\textbf{#1}}}\n",
    "\\newcommand{\\ol}{\\overline}\n",
    "\\newcommand{\\olx}[1]{\\overline{#1}^x}\n",
    "$"
   ]
  },
  {
   "cell_type": "markdown",
   "id": "72cf46c1-53d9-4cfe-b6a7-711612b2692e",
   "metadata": {},
   "source": [
    "# Southern Ocean Circulation\n",
    "\n",
    "## Basic Setup\n",
    "\n",
    "We will use the Boussinesq momentum equations to describe a simple model for the southern ocean circulation. For simplicity, we will use Cartesian coordinates. We will be focused particularly on the zonal momentum balance, which reads\n",
    "\n",
    "\\begin{align}\n",
    "\\td{u}{t}  - f v = - \\pd{\\phi}{x} + \\frac{1}{\\rho_0}\\pd{\\tau^x}{z} \n",
    "\\end{align}\n",
    "\n",
    "where $\\tau_x$ is the zonal component of the frictional stress. For completeness, we also note the incompressibility equation\n",
    "\n",
    "\\begin{align}\n",
    "\\pd{u}{x} + \\pd{v}{y} + \\pd{w}{z} = 0 \n",
    "\\end{align}\n",
    "\n",
    "hydrostatic balance\n",
    "\\begin{align}\n",
    "\\pd{\\phi}{z} = b\n",
    "\\end{align}\n",
    "\n",
    "and the buoyancy equation\n",
    "\n",
    "\\begin{align}\n",
    "\\td{b}{t} = \\pd{B}{z}\n",
    "\\label{eq:b}\n",
    "\\end{align}\n",
    "\n",
    "Where $B$ is the vertical turbulent buoyancy flux."
   ]
  },
  {
   "cell_type": "markdown",
   "id": "157720e0-351d-49cd-b0da-de2b58bd7eac",
   "metadata": {},
   "source": [
    ":::{figure-md} SO_cartoon\n",
    "<img src=\"images/SO_cartoon.png\" alt=\"Southern Ocean Cartoon\">\n",
    "\n",
    "Cartoon showing the domain of the idealized ACC problem.\n",
    ":::"
   ]
  },
  {
   "cell_type": "markdown",
   "id": "c4ca44dc-aaf2-400d-89c8-7c490a5a592d",
   "metadata": {},
   "source": [
    "## Zonal Momentum Balance in a Barotropic Model\n",
    "\n",
    "If we assume the density is constant ($b=0$), then the hydrostatic balance tells us that pressure doesn't vary with depth. This situation is called _barotropic_: \"baro\" means pressure and \"tropic\" means constant. Pressure gradients can come only from the free surface $\\eta$: $\\phi = g \\eta$.\n",
    "\n",
    "Now consider an integral over the full depth of the water column and across a closed circumpolar path in the $x$ direction. (For simplicity, we assume this path is a latitude circle, but the results generalize to any circumpolar contour.) Assuming a steady state, we find\n",
    "\n",
    "\\begin{align}\n",
    "- f \\oint \\int_{-H}^0 v dz dx = -\\oint \\int_{-H}^\\eta \\pd{}{y}(uv) dx dz - \\oint \\int_{-H}^\\eta \\pd{\\phi}{x} dx dz + \\frac{1}{\\rho_0} \\oint (\\tau^x_s - \\tau^x_b ) dx\n",
    "\\end{align}\n",
    "\n",
    "where $\\tau^x_s$ is the frictional stress at the surface and $\\tau^x_b$ is the frictional stress at the bottom.\n",
    "Mass conservations requires that the term on the left-hand side vanish; otherwise mass would be flowing into or out of the Southern Ocean. The first term on the right-hand side is a Reynolds stress; this is generally negligible on the planetary scale, and we will neglect it from here on. However, it may play an important role on smaller scales, such as within the multiple jets of the ACC."
   ]
  },
  {
   "cell_type": "markdown",
   "id": "42d6b368-e6cb-4f76-9faa-cb1537135dd1",
   "metadata": {},
   "source": [
    "A key question is whether the bottom is flat ($H = const$) or rather depends on $x$ ($H = H(x)$). Application of Leibnitz rule allows us to simplify the pressure term into\n",
    "\n",
    "\\begin{align}\n",
    "-\\oint \\int_{-H}^\\eta \\pd{\\phi}{x} dx dz = - {\\oint \\pd{}{x} \\left ( \\int_{-H}^\\eta \\pd{\\phi}{x} dz \\right ) dx} -  {\\oint \\phi_s \\pd{\\eta}{x} dx} + \\oint \\phi_b \\pd{}{x}(-H)dx \n",
    "\\end{align}\n",
    "where $\\phi_s$ is the surface pressure and $\\phi_b$ is the bottom pressure. The first term cancels exactly via the fundamental theorem of calculus, since the integral is around a closed path. The second term cancels approximately because the surface pressure (the atmospheric load) is negligible. We are left with only the final term, the _topographic form stress_.\n",
    "\n",
    "We can simplify our notation a lot by defining a _zonal average_, i.e.\n",
    "\\begin{align}\n",
    "\\ab{ \\ } = \\frac{1}{L_x} \\oint ( \\ ) dx\n",
    "\\end{align}\n",
    "\n",
    "which allows us to write the vertically and zonally integrated momentum balance as\n",
    "\\begin{align}\n",
    "\\ab{\\tau^x_s} =  \\rho_0 \\ab{\\phi_b \\pd{H}{x}} + \\ab{\\tau^x_b}\\label{eq:mom}\n",
    "\\end{align}"
   ]
  },
  {
   "cell_type": "markdown",
   "id": "c80e771c-ec62-42ad-98ba-f0edb4d22f26",
   "metadata": {},
   "source": [
    "This balance was first considered by Munk and Palmen (1951).\n",
    "They wondered whether friction played a strong role in the momentum balance of the ACC. If the bottom were flat, then the bottom frictional stress would have to balance the surface wind stress exactly. To see the consequences of this, we need an explicit formula for the bottom stress. We can use the same quadratic drag law that we used for surface stress, namely\n",
    "\n",
    "\\begin{align}\n",
    "\\tau_b = \\rho_0 C_D u_b^2\n",
    "\\end{align}\n",
    "\n",
    "where $u_b$ is the flow in the bottom boundary layer. We can use this to make an estimate for the zonal transport of the ACC. Since the flow was assumed to be barotropic, it cannot vary with depth; $u(z) = u_b$. The zonal transport of the ACC can then be approximated as\n",
    "\n",
    "\\begin{align}\n",
    "T_{ACC} = H L_y \\sqrt{ \\frac{ \\ab{\\tau^x_s} }{ \\rho_0 C_D } }\n",
    "\\end{align}\n",
    "\n",
    "where $L_y$ is the meridional extent of the current. Plugging in some rough numbers $H = 4000$ m, $L_y = 800$ km, $\\tau_0 = 0.2$ N m$^{-2}$, $\\rho_0 = 1030$ kg m$^{-3}$, $C_D = 1.2 \\times 10^{-3}$, we find $T_{ACC} \\simeq 1200 $ Sv. This is about ten times larger than the observed ACC transport! Although just a rough estimate, this calculation tells us that bottom friction can't be the main sink of momentum in the ACC; it has to be topographic form stress. \n",
    "\n",
    "Now assuming that $\\tau^x_b$ is negligible, what does \\eqref{eq:mom} tell us about the relationship between bottom pressure and topography? Since the wind stress is westerly ($\\tau^x_s > 0$) over the ACC, we must have a positive correlation between $\\phi_b$ and $\\partial H / \\partial x$. In other words, we need high pressure where the bottom is sloping up towards the east, and low pressure where the bottom is sloping down. A configuration that fulfills this requirement is shown in Fig.~\\ref{fig:cartoon}. This configuration generates a form stress term that transfers eastward momentum from the ocean to the solid earth below."
   ]
  },
  {
   "cell_type": "markdown",
   "id": "c8d4b95f-06c8-4833-9552-9f73614bb35c",
   "metadata": {},
   "source": [
    ":::{figure-md} SO_side\n",
    "<img src=\"images/SO_side.png\" alt=\"Southern Ocean Side View\">\n",
    "\n",
    "View of the barotropic ACC model from the south, looking towards the equator.\n",
    ":::\n"
   ]
  },
  {
   "cell_type": "markdown",
   "id": "1de91e2e-1e58-424e-b8bf-581b95ae4d48",
   "metadata": {},
   "source": [
    "## The Wind-Driven Overturning\n",
    "\n",
    "Although we eliminated the coriolis force on the meridional flow ($-fv$) from our budget by integrating over the full depth of the water column, \\eqref{eq:mom} also tells us a lot about the meridional overturning circulation. Let's now decompose the vertical integral into three regions: the surface Ekman layer, the interior below the Ekman layer and above the topography, and the abyss below the topographic level.\n",
    "\n",
    "\\begin{align}\n",
    "-f \\int_{-h_{Ek}}^\\eta \\ab{v} dz&& = -f \\ab{V_{Ek}} =&& \\frac{1}{\\rho_0} \\ab{\\tau^x_s} \\\\ \n",
    "-f \\int_{-H_{min}}^{-h_{Ek}} \\ab{v} dz&& =&& 0  \\\\\n",
    "-f \\int_{-H_{max}}^{-H_{min}} \\ab{v} dz&& = -f \\ab{V_g} =&& \\ab{\\phi_b \\pd{H}{x}}\n",
    "\\end{align}\n",
    "\n",
    "where $\\ab{V_{Ek}}$ is the zonally averaged Ekman transport and $\\ab{V_g}$ is the zonally averaged geostrophic transport below topography. Mass conservation can be expressed as $\\ab{V_{Ek}} + \\ab{V_g} = 0$; the Ekman transport near the surface must be returned by an equal and opposite geostrophic flow in the abyss."
   ]
  },
  {
   "cell_type": "markdown",
   "id": "618abfc6-fcf0-4ee7-bbd3-db607495dc3c",
   "metadata": {},
   "source": [
    "The zonal wind stress is not constant with latitude, but rather decreases southward over the ACC latitudes from its maximum around 50S. This means that $\\ab{V_{Ek}}$ also decreases southward, and Ekman pumping is required to supply mass from below. This implies a zonal-mean overturning circulation as shown in Fig.~\\ref{fig:cartoon_side}. Mass conservation of the zonally-averaged flow means that $\\partial \\ab{v} / \\partial y + \\partial \\ab{w} / \\partial z$. Consequently, we can express the overturning circulation using a single scalar {\\em streamfunction}:\n",
    "\n",
    "\\begin{align}\n",
    "\\ab{v} = - \\pd{}{z}\\psi_{Ek} \\ , \\ \\ \\ab{w} = \\pd{}{y}\\psi_{Ek} \\ .\n",
    "\\end{align}\n",
    "\n",
    "In the ocean interior (i.e.~$-H_{max} < z < h_{Ek}$),\n",
    "\n",
    "\\begin{align}\n",
    "\\psi_{Ek} = -\\frac{\\tau_0}{f \\rho_0} \\ .\n",
    "\\end{align}\n",
    "\n",
    "The subscript $_{Ek}$ reminds us that this overturning circulation is fundamentally _wind driven_ and proportional to the Ekman transport.\n"
   ]
  },
  {
   "cell_type": "markdown",
   "id": "98f773cd-21cc-491d-a6f2-9a1856b9b2fe",
   "metadata": {},
   "source": [
    "## Stratification and Eddy Flux\n",
    "\n",
    "This wind-driven overturning circulation $\\psi_{Ek}$ describes very strong upwelling in the ACC latitudes. Using typical values of wind stress and other parameters, we can estimate $w_{Ek} \\simeq 2.5 \\times 10^{-6}$ m/s or about 75 m / year. This upwelling takes place over a strong stratified pycnocline. The question therefore arises: how is this strong advective flux of buoyancy balanced?"
   ]
  },
  {
   "cell_type": "markdown",
   "id": "4a9edc3a-2bd2-4c01-99e3-5ed6a55a1101",
   "metadata": {},
   "source": [
    "In our discussion of advection and diffusion, we considered a one-dimensional balance between vertical advection and diffusion. The zonally-averaged version of this balance is\n",
    "\n",
    "\\begin{align}\n",
    "\\ab{w} \\pd{}{z} \\ab{b} = \\kappa_v \\pd{^2}{z^2} \\ab{b}\n",
    "\\label{eq:b1d}\n",
    "\\end{align}\n",
    "\n",
    "We found that such a system can be satisfied by a profile of the form\n",
    "\n",
    "\\begin{align}\n",
    "\\ab{b} = b_0 e^{z/z^\\ast} \n",
    "\\end{align}\n",
    "\n",
    "where $z^\\ast = \\kappa_v / \\ab{w}$ is a _scale depth_ parameter, describing how rapidly the stratification changes with depth."
   ]
  },
  {
   "cell_type": "markdown",
   "id": "860b2019-2e93-471a-849a-91911464ee87",
   "metadata": {},
   "source": [
    ":::{figure-md} SO_neutral_density\n",
    "<img src=\"images/I8_gam_with_winds.png\" alt=\"Neutral Density Section\">\n",
    "\n",
    "Neutral density surfaces in the Southern Indian Ocean (WOCE line I8), superimposed with arrows showing the sense of the wind-driven Ekman circulation.\n",
    ":::\n"
   ]
  },
  {
   "cell_type": "markdown",
   "id": "f3d4ec5d-fa5e-4971-9912-823a82f1f602",
   "metadata": {},
   "source": [
    "One important characteristic of the Southern Ocean is the relatively deep scale depth of both its stratification and associated thermal wind currents. A section of density in the Southern Indian Ocean (Fig. \\ref{fig:gamma}) illustrates this well.\n",
    "An exponential profile is actually not a bad fit; the \"scale depth\" can be estimated to be approx.~800 m. Plugging in our estimate of $w_{Ek} \\simeq 2.5 \\times 10^{-6}$ m/s implies that a value of $\\kappa_v \\simeq 2 \\times 10^{-3}$ m s$^{-2}$ would be required to satisfy the balance in \\eqref{eq:b1d}.\n",
    "Clearly such a value is far beyond the typical level of turbulent mixing in the thermocline ($\\kappa_v \\simeq 1 \\times 10^{-5}$ m s$^{-2}$). Therefore another mechanism is required to balance the wind-driven vertical advection of buoyancy."
   ]
  },
  {
   "cell_type": "markdown",
   "id": "5c27e52b-6e8b-4a86-9aa9-fd32ea9db99f",
   "metadata": {},
   "source": [
    "That other mechanism is widely believed to be mesoscale eddy transport. It turns out that \\eqref{eq:b1d} is an inadequate description of the buoyancy budget in the Southern Ocean; it neglects strong correlations between transient and small-scale motions which can contribute substantial buoyancy fluxes. To understand how these correlations arise, we must use a buoyancy budget that properly accounts for eddy fluxes.\n"
   ]
  },
  {
   "cell_type": "markdown",
   "id": "b210bd18-5099-4ea7-ac7b-7ad5c7e30de9",
   "metadata": {},
   "source": [
    "We start by taking a time and zonal average of \\eqref{eq:b}. After some algebra, we can reduce the result to\n",
    "\n",
    "\\begin{align}\n",
    "\\ab{\\ol{v}} \\pd{}{y} \\ab{\\ol{b}} + \\ab{\\ol{w}} \\pd{}{z} \\ab{\\ol{b}} = - \\pd{F^y_b}{y}  - \\pd{F^z_b}{z} + \\pd{}{z}\\ab{\\ol{B}}\n",
    "\\label{eq:b1}\n",
    "\\end{align}\n",
    "\n",
    "where \n",
    "\\begin{align}\n",
    "F^y_b = &\\ab{\\ol{v'b'}} + \\ab{v^\\dagger b^\\dagger} \\\\\n",
    "F^z_b = & \\ab{\\ol{w'b'}} + \\ab{w^\\dagger b^\\dagger}\n",
    "\\end{align}\n",
    "\n",
    "are the eddy fluxes of buoyancy in the meridional and zonal directions. We have introduced the symbol $\\ol{( \\ )}$ to indicate a time average. The deviations from the time average are indicated by a prime, and the deviations from the time and zonal average are indicated by a dagger, i.e.\n",
    "\n",
    "\\begin{align}\n",
    "a' = a - \\ol{a} \\ , \\ \\ \\ a^\\dagger = \\ab{\\ol{a}} - \\ol{a} \\ .\n",
    "\\end{align}\n",
    "\n",
    "The prime terms are associated with {\\em transient} eddy fluctuations (turbulent flow), while the dagger terms are associated with {\\em stationary} eddies, a.k.a.~steady meanders of the ACC. Both types of motion can transport buoyancy meridionally and vertically. If the zonal average is reinterpreted as a \"streamwise\" average around a circumpolar contour which follows the ACC path, the dagger terms will vanish. In practice, the buoyancy budget is generally dominated by the vertical flux terms, i.e.\n",
    "\n",
    "\\begin{align}\n",
    "\\ab{\\ol{w}} \\ab{\\ol{b}} \\simeq -\\ab{\\ol{w'b'}} \\ .\n",
    "\\end{align}"
   ]
  },
  {
   "cell_type": "markdown",
   "id": "886d3f6a-1fda-4652-8302-e9592214d786",
   "metadata": {},
   "source": [
    "In our discussion of advection and diffusion, we learned that mesoscale eddies tend to transport properties {\\em along} rather than across isopycnals. This results from fundamental dynamical and energetic constrains on the eddy motion. As a result, the eddy buoyancy flux is oriented {\\em perpendicular} to the mean buoyancy gradient, i.e.\n",
    "\n",
    "\\begin{align}\n",
    "\\frac{F^z_b}{F^y_b} \\simeq - \\frac{\\pd{}{y} \\ab{\\ol{b}}}{\\pd{}{z} \\ab{\\ol{b}} } \\ .\n",
    "\\label{eq:adiabatic}\n",
    "\\end{align}\n",
    "\n",
    "When \\eqref{eq:adiabatic} is satisfied, the eddy fluxes are usually termed \"adiabatic.\" Given this fact, an ingenious way to simplify \\eqref{eq:b1} emerges if we make the following definitions:\n",
    "\n",
    "\\begin{align}\n",
    "\\psi_{eddy} = - \\frac{F^z_b}{\\pd{}{y} \\ab{\\ol{b}}}\n",
    "\\label{eq:psi_eddy}\n",
    "\\end{align}\n",
    "\n",
    "and\n",
    "\n",
    "\\begin{align}\n",
    "\\psi_{res} = \\psi_{Ek} + \\psi_{eddy} \\ , \\ \\ v_{res} = - \\pd{}{z}\\psi_{res} \\ , \\ \\ w_{res} = \\pd{}{y}\\psi_{res} \n",
    "\\end{align}\n",
    "\n",
    "Using \\eqref{eq:adiabatic}, we can now write \\eqref{eq:b1} as\n",
    "\n",
    "\\begin{align}\n",
    "v_{res} \\pd{}{y} \\ab{\\ol{b}} + w_{res} \\pd{}{z} \\ab{\\ol{b}} =  \\pd{}{z}\\ab{\\ol{B}} \\ .\n",
    "\\label{eq:bres}\n",
    "\\end{align}\n",
    "\n",
    "In \\eqref{eq:psi_eddy}, we defined an {\\em eddy-induced} overturning streamfunction $\\psi_{eddy}$. We then defined a {\\em residual} overturning streamfunction $\\psi_{res}$ as the sum of this and the wind-driven overturning. What this means is that, when the eddy fluxes are adiabatic and \\eqref{eq:adiabatic} is satisfied, we can represent their contribution to the buoyancy budget as {\\em advection}, not diffusion! The eddy-induced overturning has the opposite sense as the wind-driven component; hence the net overturning is a small residual ($\\psi_{res}$ between the two opposing terms. \n",
    "\n",
    "It was clear that the wind stress determines $\\psi_{Ek}$, but it is not so clear what determines $\\psi_{res}$. In general this is a difficult problem, since in involves mesoscale eddy turbulence. However, there is one powerful constraint we can use: the air-sea buoyancy flux.\n",
    "\n",
    "\n",
    "Assume there is a surface mixed layer of depth $h_m > h_{Ek}$, within which $\\partial b / \\partial z = 0$. At the surface ($z=0$), both $\\psi_{Ek}$ and $\\psi_{eddy}$ go to zero. We will further assume that $B$, the vertical buoyancy flux due to mixing, is vanishingly small in the interior---this is consistent with weak values of $\\kappa_v$ that have been measured in the upper Southern Ocean. We can then integrate \\eqref{eq:bres} in the vertical over the surface mixed layer to find\n",
    "\n",
    "\\begin{align}\n",
    "\\psi_{res}(z=h_m) \\pd{}{y} \\ab{\\ol{b_s}} = \\ab{\\ol{B_s}}\n",
    "\\label{eq:psi}\n",
    "\\end{align}\n",
    "\n",
    "where $b_s$ is the surface buoyancy and $B_s$ is the surface air-sea buoyancy flux.\n",
    "\n"
   ]
  },
  {
   "cell_type": "markdown",
   "id": "7baacc03-f3ac-4a02-bbfd-8f8d74bb4c8b",
   "metadata": {},
   "source": [
    ":::{figure-md} SO_neutral_density\n",
    "<img src=\"images/moc.png\" alt=\"Overturning Cartoon\">\n",
    "\n",
    "Idealized view of Southern Ocean residual circulation and mixing\n",
    ":::"
   ]
  }
 ],
 "metadata": {
  "kernelspec": {
   "display_name": "Python 3 (ipykernel)",
   "language": "python",
   "name": "python3"
  },
  "language_info": {
   "codemirror_mode": {
    "name": "ipython",
    "version": 3
   },
   "file_extension": ".py",
   "mimetype": "text/x-python",
   "name": "python",
   "nbconvert_exporter": "python",
   "pygments_lexer": "ipython3",
   "version": "3.9.6"
  }
 },
 "nbformat": 4,
 "nbformat_minor": 5
}
