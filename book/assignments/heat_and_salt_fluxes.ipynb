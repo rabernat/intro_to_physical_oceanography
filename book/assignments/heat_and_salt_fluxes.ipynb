{
 "cells": [
  {
   "cell_type": "markdown",
   "metadata": {},
   "source": [
    "# Assignment: Heat and Salt Fluxes\n",
    "\n",
    "```{note}\n",
    "These problems can be done \"by hand,\" but you can use a computer as a calculator if you wish.\n",
    "```"
   ]
  },
  {
   "cell_type": "markdown",
   "metadata": {},
   "source": [
    "## 1) Sensible heat flux\n",
    "\n",
    "Let's assume that initially the ocean and atmosphere are in a balanced state, with no turbulent heat exchange and $T = T_{10} = 20^\\circ$C. Suddenly a cold front comes through and the air temperature drops suddenly to 18$^\\circ$C. Assume there is no ocean current and that the atmospheric winds are blowing at 10 m/s. You can also assume that $C_H = 10^{-3}$.\n",
    "\n",
    "1. Calculate the sensible heat flux immediately after this drop in air temperature.\n",
    "1. Assume the mixed layer is 50 m deep. Calculate the instantaneous rate of mixed layer cooling immediately after the drop in air temperature. Express your answer in degrees per day.\n",
    "1. This cooling rate cannot be maintained.\n",
    "   As the mixed layer cools and the ocean temperature approaches the air temperature, the sensible heat flux will become weaker. \n",
    "   Derive an equation describing the time evolution of the air-sea temperature difference $T' = T - T_{10}$, assuming $T_{10}$ remains fixed.\n",
    "   ($T'$ is positive when the water is warmer than the air.) You should find an equation of the form $\n",
    " \\frac{dT'}{dt} = - \\lambda T' $.\n",
    "   The constant $\\lambda$ is an inverse timescale. Express $\\lambda$ first in terms of the other parameters and then find its value. Give your answer in the units days$^{-1}$. In your own words, what does $\\lambda$ represent? How does it depend on the mixed layer depth? The wind speed?\n",
    "1. This equation is a simple linear, first-order ordinary differential equation. Write the solution for $T'(t)$. How long does it take the initial air-sea difference of 2$^\\circ$C to be reduced by half?"
   ]
  },
  {
   "cell_type": "markdown",
   "metadata": {},
   "source": [
    "## 2) Mediterranean Sea Volume and Freshwater Flux\n",
    "\n",
    "In this problem, we return to our favorite basin, the Mediterranean Sea. The flow in and out of the Mediterranean at the Strait of Gibraltar can roughly be described as a two-layer flow. The upper layer flows in with relatively low salinity, and the lower layer flows out with higher salinity.\n",
    "\n",
    "![med sea](figures/med_sea.png)\n",
    "\n",
    "You may use the Boussinesq approximation for all of these calculations.\n",
    "\n",
    "1. Calculate the net volume flux by advection into the basin at Gibraltar.\n",
    "1. Calculate the average evaporation minus precipitation rate necessary to maintain a steady volume budget. Give your answer in cm/year.\n",
    "1. Calculate the net freshwater flux by advection at Gibraltar. Is it consistent with the evaporation rate?"
   ]
  },
  {
   "cell_type": "markdown",
   "metadata": {},
   "source": [
    "## 3) Southern Ocean Heat Transport\n",
    "\n",
    "A very rough model of the Southern Ocean overturning is wind-driven Ekman pumping pushing warm water out near the surface and geostrophc transport below the depth of topography provding the return flow. \n",
    "\n",
    "![so](figures/southern_ocean.png)\n",
    "\n",
    "1. ~Calculate the net Ekman-driven volume transport out the Southern Ocean near 55S assuming that the zonal wind strength is 0.1 N m$^{-2}$. Give you answer in Sv.~ **The answer is 20 Sv**.\n",
    "1. Calculate the required geostrophic inflow to keep the volume budget balance, assuming no net E-P-R below 55S.\n",
    "1. Calculate the heat transport by this flow across 55S. Give your answer in PW (10$^{15}$ W). Explain your sign convention.\n",
    "1. Calculate the required average air-sea heat flux into the ocean south of 55S needed to balance the heat budget. Explain your sign convention.\n",
    "1. Compare to the observed air-sea flux [from our notes](http://rabernat.github.io/intro_to_physical_oceanography/03_air_sea_exchange.html#heat-exchange). Try to estimate an \"average\" value of the neir air-sea flux in below 55S. Are they compatible? What terms might be missing from our heat budget?"
   ]
  },
  {
   "cell_type": "code",
   "execution_count": null,
   "metadata": {},
   "outputs": [],
   "source": []
  }
 ],
 "metadata": {
  "kernelspec": {
   "display_name": "Python 3 (ipykernel)",
   "language": "python",
   "name": "python3"
  },
  "language_info": {
   "codemirror_mode": {
    "name": "ipython",
    "version": 3
   },
   "file_extension": ".py",
   "mimetype": "text/x-python",
   "name": "python",
   "nbconvert_exporter": "python",
   "pygments_lexer": "ipython3",
   "version": "3.9.6"
  }
 },
 "nbformat": 4,
 "nbformat_minor": 4
}
